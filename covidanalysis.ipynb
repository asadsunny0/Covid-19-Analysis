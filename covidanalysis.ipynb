
{
 "cells": [
  {
   "cell_type": "code",
   "execution_count": 3,
   "metadata": {},
   "outputs": [],
   "source": [
    "import pandas as pd"
   ]
  },
  {
   "cell_type": "code",
   "execution_count": 12,
   "metadata": {},
   "outputs": [],
   "source": [
    "import numpy as np"
   ]
  },
  {
   "cell_type": "markdown",
   "metadata": {},
   "source": [
    "Data Importing & Cleaning"
   ]
  },
  {
   "cell_type": "code",
   "execution_count": 4,
   "metadata": {},
   "outputs": [],
   "source": [
    "df = pd.read_csv(\"WHO-COVID-19-global-table-data.csv\")"
   ]
  },
  {
   "cell_type": "code",
   "execution_count": 5,
   "metadata": {},
   "outputs": [
    {
     "data": {
      "text/html": [
       "<div>\n",
       "<style scoped>\n",
       "    .dataframe tbody tr th:only-of-type {\n",
       "        vertical-align: middle;\n",
       "    }\n",
       "\n",
       "    .dataframe tbody tr th {\n",
       "        vertical-align: top;\n",
       "    }\n",
       "\n",
       "    .dataframe thead th {\n",
       "        text-align: right;\n",
       "    }\n",
       "</style>\n",
       "<table border=\"1\" class=\"dataframe\">\n",
       "  <thead>\n",
       "    <tr style=\"text-align: right;\">\n",
       "      <th></th>\n",
       "      <th>Name</th>\n",
       "      <th>WHO Region</th>\n",
       "      <th>Cases - cumulative total</th>\n",
       "      <th>Cases - cumulative total per 100000 population</th>\n",
       "      <th>Cases - newly reported in last 7 days</th>\n",
       "      <th>Cases - newly reported in last 7 days per 100000 population</th>\n",
       "      <th>Cases - newly reported in last 24 hours</th>\n",
       "      <th>Deaths - cumulative total</th>\n",
       "      <th>Deaths - cumulative total per 100000 population</th>\n",
       "      <th>Deaths - newly reported in last 7 days</th>\n",
       "      <th>Deaths - newly reported in last 7 days per 100000 population</th>\n",
       "      <th>Deaths - newly reported in last 24 hours</th>\n",
       "    </tr>\n",
       "  </thead>\n",
       "  <tbody>\n",
       "    <tr>\n",
       "      <th>0</th>\n",
       "      <td>Belarus</td>\n",
       "      <td>Europe</td>\n",
       "      <td>994045.0</td>\n",
       "      <td>10520.0</td>\n",
       "      <td>0.0</td>\n",
       "      <td>NaN</td>\n",
       "      <td>0.0</td>\n",
       "      <td>7118.0</td>\n",
       "      <td>75.0</td>\n",
       "      <td>0.0</td>\n",
       "      <td>NaN</td>\n",
       "      <td>0.0</td>\n",
       "    </tr>\n",
       "    <tr>\n",
       "      <th>1</th>\n",
       "      <td>China</td>\n",
       "      <td>Western Pacific</td>\n",
       "      <td>99381302.0</td>\n",
       "      <td>6755.0</td>\n",
       "      <td>47.0</td>\n",
       "      <td>NaN</td>\n",
       "      <td>47.0</td>\n",
       "      <td>122377.0</td>\n",
       "      <td>8.0</td>\n",
       "      <td>0.0</td>\n",
       "      <td>NaN</td>\n",
       "      <td>0.0</td>\n",
       "    </tr>\n",
       "    <tr>\n",
       "      <th>2</th>\n",
       "      <td>French Guiana</td>\n",
       "      <td>NaN</td>\n",
       "      <td>98041.0</td>\n",
       "      <td>32825.0</td>\n",
       "      <td>NaN</td>\n",
       "      <td>NaN</td>\n",
       "      <td>NaN</td>\n",
       "      <td>413.0</td>\n",
       "      <td>138.0</td>\n",
       "      <td>NaN</td>\n",
       "      <td>NaN</td>\n",
       "      <td>NaN</td>\n",
       "    </tr>\n",
       "    <tr>\n",
       "      <th>3</th>\n",
       "      <td>Latvia</td>\n",
       "      <td>Europe</td>\n",
       "      <td>977765.0</td>\n",
       "      <td>51254.0</td>\n",
       "      <td>0.0</td>\n",
       "      <td>NaN</td>\n",
       "      <td>0.0</td>\n",
       "      <td>7475.0</td>\n",
       "      <td>392.0</td>\n",
       "      <td>0.0</td>\n",
       "      <td>NaN</td>\n",
       "      <td>0.0</td>\n",
       "    </tr>\n",
       "    <tr>\n",
       "      <th>4</th>\n",
       "      <td>Saint Vincent and the Grenadines</td>\n",
       "      <td>Americas</td>\n",
       "      <td>9674.0</td>\n",
       "      <td>8720.0</td>\n",
       "      <td>NaN</td>\n",
       "      <td>NaN</td>\n",
       "      <td>NaN</td>\n",
       "      <td>124.0</td>\n",
       "      <td>112.0</td>\n",
       "      <td>NaN</td>\n",
       "      <td>NaN</td>\n",
       "      <td>NaN</td>\n",
       "    </tr>\n",
       "  </tbody>\n",
       "</table>\n",
       "</div>"
      ],
      "text/plain": [
       "                               Name       WHO Region  \\\n",
       "0                           Belarus           Europe   \n",
       "1                             China  Western Pacific   \n",
       "2                     French Guiana              NaN   \n",
       "3                            Latvia           Europe   \n",
       "4  Saint Vincent and the Grenadines         Americas   \n",
       "\n",
       "   Cases - cumulative total  Cases - cumulative total per 100000 population  \\\n",
       "0                  994045.0                                         10520.0   \n",
       "1                99381302.0                                          6755.0   \n",
       "2                   98041.0                                         32825.0   \n",
       "3                  977765.0                                         51254.0   \n",
       "4                    9674.0                                          8720.0   \n",
       "\n",
       "   Cases - newly reported in last 7 days  \\\n",
       "0                                    0.0   \n",
       "1                                   47.0   \n",
       "2                                    NaN   \n",
       "3                                    0.0   \n",
       "4                                    NaN   \n",
       "\n",
       "   Cases - newly reported in last 7 days per 100000 population  \\\n",
       "0                                                NaN             \n",
       "1                                                NaN             \n",
       "2                                                NaN             \n",
       "3                                                NaN             \n",
       "4                                                NaN             \n",
       "\n",
       "   Cases - newly reported in last 24 hours  Deaths - cumulative total  \\\n",
       "0                                      0.0                     7118.0   \n",
       "1                                     47.0                   122377.0   \n",
       "2                                      NaN                      413.0   \n",
       "3                                      0.0                     7475.0   \n",
       "4                                      NaN                      124.0   \n",
       "\n",
       "   Deaths - cumulative total per 100000 population  \\\n",
       "0                                             75.0   \n",
       "1                                              8.0   \n",
       "2                                            138.0   \n",
       "3                                            392.0   \n",
       "4                                            112.0   \n",
       "\n",
       "   Deaths - newly reported in last 7 days  \\\n",
       "0                                     0.0   \n",
       "1                                     0.0   \n",
       "2                                     NaN   \n",
       "3                                     0.0   \n",
       "4                                     NaN   \n",
       "\n",
       "   Deaths - newly reported in last 7 days per 100000 population  \\\n",
       "0                                                NaN              \n",
       "1                                                NaN              \n",
       "2                                                NaN              \n",
       "3                                                NaN              \n",
       "4                                                NaN              \n",
       "\n",
       "   Deaths - newly reported in last 24 hours  \n",
       "0                                       0.0  \n",
       "1                                       0.0  \n",
       "2                                       NaN  \n",
       "3                                       0.0  \n",
       "4                                       NaN  "
      ]
     },
     "execution_count": 5,
     "metadata": {},
     "output_type": "execute_result"
    }
   ],
   "source": [
    "df.head()"
   ]
  },
  {
   "cell_type": "code",
   "execution_count": 6,
   "metadata": {},
   "outputs": [
    {
     "data": {
      "text/plain": [
       "(241, 12)"
      ]
     },
     "execution_count": 6,
     "metadata": {},
     "output_type": "execute_result"
    }
   ],
   "source": [
    "df.shape"
   ]
  },
  {
   "cell_type": "code",
   "execution_count": 7,
   "metadata": {},
   "outputs": [
    {
     "name": "stdout",
     "output_type": "stream",
     "text": [
      "<class 'pandas.core.frame.DataFrame'>\n",
      "RangeIndex: 241 entries, 0 to 240\n",
      "Data columns (total 12 columns):\n",
      " #   Column                                                        Non-Null Count  Dtype  \n",
      "---  ------                                                        --------------  -----  \n",
      " 0   Name                                                          241 non-null    object \n",
      " 1   WHO Region                                                    222 non-null    object \n",
      " 2   Cases - cumulative total                                      241 non-null    float64\n",
      " 3   Cases - cumulative total per 100000 population                232 non-null    float64\n",
      " 4   Cases - newly reported in last 7 days                         79 non-null     float64\n",
      " 5   Cases - newly reported in last 7 days per 100000 population   33 non-null     float64\n",
      " 6   Cases - newly reported in last 24 hours                       79 non-null     float64\n",
      " 7   Deaths - cumulative total                                     241 non-null    float64\n",
      " 8   Deaths - cumulative total per 100000 population               225 non-null    float64\n",
      " 9   Deaths - newly reported in last 7 days                        80 non-null     float64\n",
      " 10  Deaths - newly reported in last 7 days per 100000 population  0 non-null      float64\n",
      " 11  Deaths - newly reported in last 24 hours                      80 non-null     float64\n",
      "dtypes: float64(10), object(2)\n",
      "memory usage: 22.7+ KB\n"
     ]
    }
   ],
   "source": [
    "df.info()"
   ]
  },
  {
   "cell_type": "code",
   "execution_count": 14,
   "metadata": {},
   "outputs": [
    {
     "data": {
      "text/plain": [
       "Name                                                              0\n",
       "WHO Region                                                       19\n",
       "Cases - cumulative total                                          0\n",
       "Cases - cumulative total per 100000 population                    9\n",
       "Cases - newly reported in last 7 days                           162\n",
       "Cases - newly reported in last 7 days per 100000 population     208\n",
       "Cases - newly reported in last 24 hours                         162\n",
       "Deaths - cumulative total                                         0\n",
       "Deaths - cumulative total per 100000 population                  16\n",
       "Deaths - newly reported in last 7 days                          161\n",
       "Deaths - newly reported in last 7 days per 100000 population    241\n",
       "Deaths - newly reported in last 24 hours                        161\n",
       "dtype: int64"
      ]
     },
     "execution_count": 14,
     "metadata": {},
     "output_type": "execute_result"
    }
   ],
   "source": [
    "df.isnull().sum()"
   ]
  },
  {
   "cell_type": "code",
   "execution_count": 15,
   "metadata": {},
   "outputs": [],
   "source": [
    "df.drop(columns = [\"Cases - newly reported in last 7 days per 100000 population\", \"Deaths - newly reported in last 7 days per 100000 population\"], inplace = True)"
   ]
  },
  {
   "cell_type": "code",
   "execution_count": 18,
   "metadata": {},
   "outputs": [
    {
     "data": {
      "text/plain": [
       "Index(['Name', 'WHO Region', 'Cases - cumulative total',\n",
       "       'Cases - cumulative total per 100000 population',\n",
       "       'Cases - newly reported in last 7 days',\n",
       "       'Cases - newly reported in last 24 hours', 'Deaths - cumulative total',\n",
       "       'Deaths - cumulative total per 100000 population',\n",
       "       'Deaths - newly reported in last 7 days',\n",
       "       'Deaths - newly reported in last 24 hours'],\n",
       "      dtype='object')"
      ]
     },
     "execution_count": 18,
     "metadata": {},
     "output_type": "execute_result"
    }
   ],
   "source": [
    "df.columns"
   ]
  },
  {
   "cell_type": "code",
   "execution_count": 19,
   "metadata": {},
   "outputs": [
    {
     "data": {
      "text/plain": [
       "Name                                                 0\n",
       "WHO Region                                          19\n",
       "Cases - cumulative total                             0\n",
       "Cases - cumulative total per 100000 population       9\n",
       "Cases - newly reported in last 7 days              162\n",
       "Cases - newly reported in last 24 hours            162\n",
       "Deaths - cumulative total                            0\n",
       "Deaths - cumulative total per 100000 population     16\n",
       "Deaths - newly reported in last 7 days             161\n",
       "Deaths - newly reported in last 24 hours           161\n",
       "dtype: int64"
      ]
     },
     "execution_count": 19,
     "metadata": {},
     "output_type": "execute_result"
    }
   ],
   "source": [
    "df.isnull().sum()"
   ]
  },
  {
   "cell_type": "code",
   "execution_count": 20,
   "metadata": {},
   "outputs": [],
   "source": [
    "df.drop(columns= ['Cases - newly reported in last 24 hours', 'Deaths - newly reported in last 24 hours'], inplace = True)"
   ]
  },
  {
   "cell_type": "code",
   "execution_count": 21,
   "metadata": {},
   "outputs": [
    {
     "data": {
      "text/plain": [
       "Index(['Name', 'WHO Region', 'Cases - cumulative total',\n",
       "       'Cases - cumulative total per 100000 population',\n",
       "       'Cases - newly reported in last 7 days', 'Deaths - cumulative total',\n",
       "       'Deaths - cumulative total per 100000 population',\n",
       "       'Deaths - newly reported in last 7 days'],\n",
       "      dtype='object')"
      ]
     },
     "execution_count": 21,
     "metadata": {},
     "output_type": "execute_result"
    }
   ],
   "source": [
    "df.columns"
   ]
  },
  {
   "cell_type": "code",
   "execution_count": 22,
   "metadata": {},
   "outputs": [
    {
     "data": {
      "text/plain": [
       "Name                                                 0\n",
       "WHO Region                                          19\n",
       "Cases - cumulative total                             0\n",
       "Cases - cumulative total per 100000 population       9\n",
       "Cases - newly reported in last 7 days              162\n",
       "Deaths - cumulative total                            0\n",
       "Deaths - cumulative total per 100000 population     16\n",
       "Deaths - newly reported in last 7 days             161\n",
       "dtype: int64"
      ]
     },
     "execution_count": 22,
     "metadata": {},
     "output_type": "execute_result"
    }
   ],
   "source": [
    "df.isnull().sum()"
   ]
  }
 ],
 "metadata": {
  "kernelspec": {
   "display_name": "Python 3",
   "language": "python",
   "name": "python3"
  },
  "language_info": {
   "codemirror_mode": {
    "name": "ipython",
    "version": 3
   },
   "file_extension": ".py",
   "mimetype": "text/x-python",
   "name": "python",
   "nbconvert_exporter": "python",
   "pygments_lexer": "ipython3",
   "version": "3.13.1"
  }
 },
 "nbformat": 4,
 "nbformat_minor": 2
}
